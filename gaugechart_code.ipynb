{
 "cells": [
  {
   "cell_type": "code",
   "execution_count": 7,
   "metadata": {},
   "outputs": [],
   "source": [
    "import pandas as pd\n",
    "import matplotlib.pyplot as plt\n",
    "import plotly.graph_objects as go\n",
    "from plotly.subplots import make_subplots"
   ]
  },
  {
   "cell_type": "markdown",
   "metadata": {},
   "source": [
    "Dades extretes de l'institut d'estadística de Catalunya:\n",
    "https://www.idescat.cat/pub/?id=eulp&n=3572\n",
    "\n",
    "Sobre els gauge charts:\n",
    "https://www.spotfire.com/glossary/what-is-a-gauge-chart\n"
   ]
  },
  {
   "cell_type": "code",
   "execution_count": 34,
   "metadata": {},
   "outputs": [],
   "source": [
    "data = pd.read_csv(\"gaugechart_data.csv\")\n",
    "\n",
    "fig = make_subplots(\n",
    "    rows=2, cols=2,\n",
    "    specs=[[{\"type\": \"indicator\"}, {\"type\": \"indicator\"}],\n",
    "           [{\"type\": \"indicator\"}, {\"type\": \"indicator\"}]],\n",
    ")\n",
    "\n",
    "fig.update_layout(title=\"% que empren el català habitualment\",\n",
    "                  title_x=0.5)\n",
    "\n",
    "fig.add_trace(go.Indicator(\n",
    "    mode = \"gauge+number\",\n",
    "    value = data.iat[0,1],\n",
    "    domain = {'x': [0, 1], 'y': [0, 1]},\n",
    "    gauge = {'axis': {'range': [0, 100]},\n",
    "             'steps' : [\n",
    "                 {'range': [0, 30], 'color': \"lightgray\"},\n",
    "                 {'range': [30, 70], 'color': \"lightblue\"},\n",
    "                 {'range': [70, 100], 'color': \"skyblue\"}]},\n",
    "    title = {'text': \"De 15 a 29 anys\"}), row=1, col=1)\n",
    "\n",
    "fig.add_trace(go.Indicator(\n",
    "    mode = \"gauge+number\",\n",
    "    value = data.iat[1,1],\n",
    "    domain = {'x': [0, 1], 'y': [0, 1]},\n",
    "    gauge = {'axis': {'range': [0, 100]},\n",
    "             'steps' : [\n",
    "                 {'range': [0, 30], 'color': \"lightgray\"},\n",
    "                 {'range': [30, 70], 'color': \"lightblue\"},\n",
    "                 {'range': [70, 100], 'color': \"skyblue\"}]},\n",
    "    title = {'text': \"De 30 a 44 anys\"}), row=1, col=2)\n",
    "\n",
    "fig.add_trace(go.Indicator(\n",
    "    mode = \"gauge+number\",\n",
    "    value = data.iat[2,1],\n",
    "    domain = {'x': [0, 1], 'y': [0, 1]},\n",
    "    gauge = {'axis': {'range': [0, 100]},\n",
    "             'steps' : [\n",
    "                 {'range': [0, 30], 'color': \"lightgray\"},\n",
    "                 {'range': [30, 70], 'color': \"lightblue\"},\n",
    "                 {'range': [70, 100], 'color': \"skyblue\"}]},\n",
    "    title = {'text': \"De 45 a 64 anys\"}), row=2, col=1)\n",
    "\n",
    "fig.add_trace(go.Indicator(\n",
    "    mode = \"gauge+number\",\n",
    "    value = data.iat[3,1],\n",
    "    domain = {'x': [0, 1], 'y': [0, 1]},\n",
    "    gauge = {'axis': {'range': [0, 100]},\n",
    "             'steps' : [\n",
    "                 {'range': [0, 30], 'color': \"lightgray\"},\n",
    "                 {'range': [30, 70], 'color': \"lightblue\"},\n",
    "                 {'range': [70, 100], 'color': \"skyblue\"}]},\n",
    "    title = {'text': \"De 65 anys i més\"}), row=2, col=2)\n",
    "\n",
    "\n",
    "fig.write_html(\"gaugechart.html\")"
   ]
  }
 ],
 "metadata": {
  "kernelspec": {
   "display_name": "entornplots",
   "language": "python",
   "name": "python3"
  },
  "language_info": {
   "codemirror_mode": {
    "name": "ipython",
    "version": 3
   },
   "file_extension": ".py",
   "mimetype": "text/x-python",
   "name": "python",
   "nbconvert_exporter": "python",
   "pygments_lexer": "ipython3",
   "version": "3.13.0"
  }
 },
 "nbformat": 4,
 "nbformat_minor": 2
}
